{
  "nbformat": 4,
  "nbformat_minor": 0,
  "metadata": {
    "colab": {
      "provenance": [],
      "toc_visible": true,
      "include_colab_link": true
    },
    "kernelspec": {
      "name": "python3",
      "display_name": "Python 3"
    }
  },
  "cells": [
    {
      "cell_type": "markdown",
      "metadata": {
        "id": "view-in-github",
        "colab_type": "text"
      },
      "source": [
        "<a href=\"https://colab.research.google.com/github/kejsida33/kejsis/blob/master/laborator1_kejsi_koci.ipynb\" target=\"_parent\"><img src=\"https://colab.research.google.com/assets/colab-badge.svg\" alt=\"Open In Colab\"/></a>"
      ]
    },
    {
      "cell_type": "markdown",
      "metadata": {
        "id": "HyH9wsqKliOU"
      },
      "source": [
        "# Introducere\n",
        "- Google Colabs\n",
        "- GitHub\n",
        "- Python\n"
      ]
    },
    {
      "cell_type": "markdown",
      "metadata": {
        "id": "lMGVVb9zl0WT"
      },
      "source": [
        "#Python\n",
        "**Librării utile**\n",
        "- Numpy\n",
        "- Panda\n",
        "- scikit-learn\n",
        "- Matplotlib\n",
        "- Keras\n",
        "\n"
      ]
    },
    {
      "cell_type": "code",
      "metadata": {
        "id": "cXKFOZyqnQ_Y"
      },
      "source": [
        "import pandas as pd\n",
        "import numpy as np\n",
        "from matplotlib import pyplot as plt\n",
        "import scipy.io as sio\n",
        "import keras\n"
      ],
      "execution_count": null,
      "outputs": []
    },
    {
      "cell_type": "markdown",
      "metadata": {
        "id": "Bs5DvFRnrH1Y"
      },
      "source": [
        "#Noțiuni de bază"
      ]
    },
    {
      "cell_type": "markdown",
      "metadata": {
        "id": "vJN81dxwp8kJ"
      },
      "source": [
        "**Operații simple**"
      ]
    },
    {
      "cell_type": "code",
      "metadata": {
        "id": "xhGjoI2qpFpY",
        "colab": {
          "base_uri": "https://localhost:8080/"
        },
        "outputId": "7c547a14-e080-4374-cea6-2d0c481e1a13"
      },
      "source": [
        "a = 5\n",
        "b = 7\n",
        "s1 = a+b\n",
        "s2 = a-b\n",
        "s3 = a/b\n",
        "s4 = a*b\n",
        "print('Rezultatul adunării este:'+ str(s1)) #funția str() - transformă numărul in stringș funcția print() afișează variabila\n",
        "print('Rezultatul scăderii este:'+ str(s2))\n",
        "print('Rezultatul impărțirii este:'+ str(s3))\n",
        "print('Rezultatul înmulțirii este:'+ str(s4))\n",
        "print(type(a))"
      ],
      "execution_count": null,
      "outputs": [
        {
          "output_type": "stream",
          "name": "stdout",
          "text": [
            "Rezultatul adunării este:12\n",
            "Rezultatul scăderii este:-2\n",
            "Rezultatul impărțirii este:0.7142857142857143\n",
            "Rezultatul înmulțirii este:35\n",
            "<class 'int'>\n"
          ]
        }
      ]
    },
    {
      "cell_type": "markdown",
      "metadata": {
        "id": "TPEs4jI1qzlF"
      },
      "source": [
        "**Vectori si matrici**"
      ]
    },
    {
      "cell_type": "code",
      "metadata": {
        "id": "UrIi3syWpU3m",
        "colab": {
          "base_uri": "https://localhost:8080/"
        },
        "outputId": "437b88e1-ec26-495c-9693-4d380096965d"
      },
      "source": [
        "a = [1,2,3,4,5,6,7,8,9,10]\n",
        "print(a)\n"
      ],
      "execution_count": null,
      "outputs": [
        {
          "output_type": "stream",
          "name": "stdout",
          "text": [
            "[1, 2, 3, 4, 5, 6, 7, 8, 9, 10]\n"
          ]
        }
      ]
    },
    {
      "cell_type": "code",
      "metadata": {
        "id": "mctReuaQrNsI",
        "colab": {
          "base_uri": "https://localhost:8080/"
        },
        "outputId": "22c0eb4d-835c-4904-c241-14c39f598de5"
      },
      "source": [
        "a = list(range(1,10)) #try changing range(1,11)\n",
        "print(a)"
      ],
      "execution_count": null,
      "outputs": [
        {
          "output_type": "stream",
          "name": "stdout",
          "text": [
            "[1, 2, 3, 4, 5, 6, 7, 8, 9]\n"
          ]
        }
      ]
    },
    {
      "cell_type": "code",
      "metadata": {
        "id": "awYorhurr7L1",
        "colab": {
          "base_uri": "https://localhost:8080/"
        },
        "outputId": "2044d975-b085-440b-f84b-b608ed76b0bb"
      },
      "source": [
        "a = np.zeros(10)\n",
        "print(a)"
      ],
      "execution_count": null,
      "outputs": [
        {
          "output_type": "stream",
          "name": "stdout",
          "text": [
            "[0. 0. 0. 0. 0. 0. 0. 0. 0. 0.]\n"
          ]
        }
      ]
    },
    {
      "cell_type": "code",
      "metadata": {
        "id": "1CQOL4W9tVZx",
        "colab": {
          "base_uri": "https://localhost:8080/"
        },
        "outputId": "63926521-89c6-4459-edb0-b4d54d72a943"
      },
      "source": [
        "a = np.random.randn(10)\n",
        "print('10 numere aleatorii')\n",
        "print(a)\n",
        "a = 10+np.random.randn(10)\n",
        "print(a)"
      ],
      "execution_count": null,
      "outputs": [
        {
          "output_type": "stream",
          "name": "stdout",
          "text": [
            "10 numere aleatorii\n",
            "[-1.46252682 -0.45438153  0.65319783 -0.26437061 -0.10436377  0.39156967\n",
            "  1.03895702  1.34623672 -0.14455856  0.05242762]\n",
            "[10.32952841 11.3708116  10.00944289  8.0142988   9.89237174  9.06327786\n",
            " 11.4601445  10.54039175  9.51902055  9.79107622]\n"
          ]
        }
      ]
    },
    {
      "cell_type": "code",
      "metadata": {
        "id": "9GBH7e59tISf",
        "colab": {
          "base_uri": "https://localhost:8080/"
        },
        "outputId": "fff36b28-3c25-4229-bb7d-8c3408b557fe"
      },
      "source": [
        "a = [[0, 0, 0, 0],\n",
        "     [0, 0, 0, 0],\n",
        "     [0, 0, 0, 0],\n",
        "     [0, 0, 0, 0]]\n",
        "print(a)\n",
        "print(type(a))"
      ],
      "execution_count": null,
      "outputs": [
        {
          "output_type": "stream",
          "name": "stdout",
          "text": [
            "[[0, 0, 0, 0], [0, 0, 0, 0], [0, 0, 0, 0], [0, 0, 0, 0]]\n",
            "<class 'list'>\n"
          ]
        }
      ]
    },
    {
      "cell_type": "code",
      "metadata": {
        "id": "2PoYvoAptxYp",
        "colab": {
          "base_uri": "https://localhost:8080/"
        },
        "outputId": "a565a2fd-daac-4886-a067-64236c3a4a77"
      },
      "source": [
        "a = np.zeros((4,4))\n",
        "print(a)\n",
        "print(type(a))"
      ],
      "execution_count": null,
      "outputs": [
        {
          "output_type": "stream",
          "name": "stdout",
          "text": [
            "[[0. 0. 0. 0.]\n",
            " [0. 0. 0. 0.]\n",
            " [0. 0. 0. 0.]\n",
            " [0. 0. 0. 0.]]\n",
            "<class 'numpy.ndarray'>\n"
          ]
        }
      ]
    },
    {
      "cell_type": "code",
      "metadata": {
        "id": "Xpqzbmb9uSGj",
        "colab": {
          "base_uri": "https://localhost:8080/"
        },
        "outputId": "2981aecf-4dd7-478f-b430-f4c0c91e319b"
      },
      "source": [
        "a = [[1, 4, 5, 12],\n",
        "    [-5, 8, 9, 0],\n",
        "    [-6, 7, 11, 19]]\n",
        "\n",
        "print('Primul rand din matrice')\n",
        "print(a[0])\n",
        "print('Primul element din matrice')\n",
        "print(a[0][0])\n",
        "print('Elementul i=2 (rand), j=1(coloana)')\n",
        "print(a[2][1])\n",
        "print(type(a))"
      ],
      "execution_count": null,
      "outputs": [
        {
          "output_type": "stream",
          "name": "stdout",
          "text": [
            "Primul rand din matrice\n",
            "[1, 4, 5, 12]\n",
            "Primul element din matrice\n",
            "1\n",
            "Elementul i=2 (rand), j=1(coloana)\n",
            "7\n",
            "<class 'list'>\n"
          ]
        }
      ]
    },
    {
      "cell_type": "markdown",
      "metadata": {
        "id": "s8LXCaG1nmzz"
      },
      "source": [
        "#Exercițiu 1a\n",
        "Calculați și afișați valoarea:\n",
        "[3546 + (7901-621)] * 2\n",
        "\n",
        "\n"
      ]
    },
    {
      "cell_type": "code",
      "metadata": {
        "id": "4fSmtqWvwKLU",
        "colab": {
          "base_uri": "https://localhost:8080/"
        },
        "outputId": "a6e4642c-13f4-4ce7-a824-7ddfe9a6029c"
      },
      "source": [
        "print(\"Valoarea expresiei este: \", (3546 + (7901 -621))*2)"
      ],
      "execution_count": null,
      "outputs": [
        {
          "output_type": "stream",
          "name": "stdout",
          "text": [
            "Valoarea expresiei este:  21652\n"
          ]
        }
      ]
    },
    {
      "cell_type": "markdown",
      "metadata": {
        "id": "iIysJ0lEwO8Z"
      },
      "source": [
        "#Exercițiu 1b\n",
        "1.Creați și afișați o matrice de (3,3) elemente\n",
        "\n",
        "2.Afișați elementul de pe linia trei coloana trei a matricei create"
      ]
    },
    {
      "cell_type": "code",
      "metadata": {
        "id": "alk9nfM9xpAB",
        "colab": {
          "base_uri": "https://localhost:8080/"
        },
        "outputId": "c5ed3cd0-a902-4d4c-a1cf-8d1168a5befe"
      },
      "source": [
        "a = np.array([[1, 3, 5],\n",
        "                    [7, 8, 12],\n",
        "                    [12, 35, 70]])\n",
        "print(a)\n",
        "print(a[2][2])"
      ],
      "execution_count": null,
      "outputs": [
        {
          "output_type": "stream",
          "name": "stdout",
          "text": [
            "[[ 1  3  5]\n",
            " [ 7  8 12]\n",
            " [12 35 70]]\n",
            "70\n"
          ]
        }
      ]
    },
    {
      "cell_type": "markdown",
      "metadata": {
        "id": "80Yhsg4Jx-Mv"
      },
      "source": [
        "#Exercițiu 1c\n",
        "1. Folosind librăria numpy, creați și afișați o matrice de (5,5) cu elemente aleatorii de la 1 la 100.\n",
        "Utilizați funcția numpy - np.random.randint(nr max, size=(x,x))\n",
        "\n",
        "2. Afișați elementul de la intersecția celor două diagonale ale matricei\n",
        "\n",
        "3. Aranjați crescător elementele de pe a doua coloană a matricei și afișați rezultatul. *funcția numpy sort()*\n",
        "\n",
        "4. Folosiți funcția *size()* și afișați rezultatul\n",
        "\n",
        "5. Afișați lungimea matricei. *funcția len()*\n"
      ]
    },
    {
      "cell_type": "code",
      "metadata": {
        "id": "9UTjthfmySP-",
        "colab": {
          "base_uri": "https://localhost:8080/"
        },
        "outputId": "beda3b4a-c1b5-4ae6-e46a-67bc12347193"
      },
      "source": [
        "a = np.random.randint(1, 100, size=(5,5))\n",
        "print(a)\n",
        "print(\"Elementul de la intersectia celor doua diagonale este:\", matrice[2][2])\n",
        "second_column = a[:, 1]\n",
        "print(np.sort(second_column))\n",
        "print(\"Dimensiunea este:\", np.size(a))\n",
        "print(\"Lungimea este:\", len(a))"
      ],
      "execution_count": null,
      "outputs": [
        {
          "output_type": "stream",
          "name": "stdout",
          "text": [
            "[[78 98 78 72 68]\n",
            " [54 68 55 35 29]\n",
            " [ 3 60 39  3 12]\n",
            " [21 17 63 18 18]\n",
            " [75 27 86 16 94]]\n",
            "Elementul de la intersectia celor doua diagonale este: 75\n",
            "[17 27 60 68 98]\n",
            "Dimensiunea este: 25\n",
            "Lungimea este: 5\n"
          ]
        }
      ]
    },
    {
      "cell_type": "markdown",
      "metadata": {
        "id": "hL4BKFDH2ViM"
      },
      "source": [
        "#Operații condiționale și repetitive"
      ]
    },
    {
      "cell_type": "markdown",
      "metadata": {
        "id": "xL0uwt4FL3i9"
      },
      "source": [
        "**Operatii conditionale**\n",
        "\n",
        "Sintaxa\n",
        "\n",
        "```\n",
        "if <expression>:\n",
        "  <statement>\n",
        "\n",
        "```\n",
        "```\n",
        "if <expression>:\n",
        "  <statement>\n",
        "else:\n",
        "  <statement>\n",
        "```\n",
        "\n",
        "```\n",
        "if <expression>:\n",
        "  <statement>\n",
        "elif <expression>:\n",
        "  <statement>\n",
        "else <expression>:\n",
        "  statement>\n",
        "```\n",
        "Exemple\n",
        "\n",
        "\n",
        "\n",
        "\n",
        "\n",
        "    \n",
        "  \n",
        "\n",
        "\n"
      ]
    },
    {
      "cell_type": "code",
      "metadata": {
        "id": "dSN-wgaL2g7r"
      },
      "source": [
        "\n"
      ],
      "execution_count": null,
      "outputs": []
    },
    {
      "cell_type": "markdown",
      "metadata": {
        "id": "BtwRhe1AUvKe"
      },
      "source": [
        "**Operatori logici**\n",
        "\n",
        "\n",
        "*   x < y  \n",
        "*   x > y\n",
        "*   x <= y\n",
        "*   x >- y\n",
        "*   x == y\n",
        "*   x != y\n",
        "*   x or y\n",
        "*   x and y\n",
        "\n"
      ]
    },
    {
      "cell_type": "markdown",
      "metadata": {
        "id": "oumcEnY4QHdO"
      },
      "source": [
        "**Operatii repetitive**\n",
        "\n",
        "Sintaxa\n",
        "\n",
        "```\n",
        "for <variabila> in <vector>:\n",
        "  <statement>\n",
        "```\n",
        "\n",
        "\n",
        "```\n",
        "while <expresie>:\n",
        "  <statement>\n",
        "```\n",
        "\n",
        "Exemple\n",
        "\n",
        "\n",
        "\n"
      ]
    },
    {
      "cell_type": "code",
      "metadata": {
        "id": "JCSYqokKMhHf"
      },
      "source": [],
      "execution_count": null,
      "outputs": []
    },
    {
      "cell_type": "code",
      "metadata": {
        "id": "hjXU0o81XYuA"
      },
      "source": [
        "\n"
      ],
      "execution_count": null,
      "outputs": []
    },
    {
      "cell_type": "code",
      "metadata": {
        "id": "YsEhL1NoZ8Z4"
      },
      "source": [],
      "execution_count": null,
      "outputs": []
    },
    {
      "cell_type": "markdown",
      "metadata": {
        "id": "3LcQNPTLbG_O"
      },
      "source": [
        "# Exercitiu 2a\n",
        "Creati un element aleatoriu intre 1 si 10. Utilizați funcția numpy - np.random.randint(nr max, size=(x,x)). In functie de valoarea elementului, afisati:\n",
        "\n",
        "\n",
        "*   *Numarul generat este mai mic decat 5*\n",
        "*   *Numarul generat este intre 5 si 8*\n",
        "*   *Numarul generat este mai mare decat 8*\n",
        "\n",
        "Afisati numarul generat.\n",
        "\n",
        "\n"
      ]
    },
    {
      "cell_type": "code",
      "metadata": {
        "id": "e5nyreCfcUbt",
        "colab": {
          "base_uri": "https://localhost:8080/"
        },
        "outputId": "a9c713a1-6c02-4e67-9caa-29d093589871"
      },
      "source": [
        "numar_aleator = np.random.randint(1, 11)\n",
        "print(numar_aleator)\n",
        "if numar_aleator > 5:\n",
        "  print(\"Numarul generat este mai mare decat 8!\")\n",
        "elif numar_aleator <=8 and numar_aleator >=5:\n",
        "  print(\"Numarul generat este intre 5 si 8!\")\n",
        "else:\n",
        "  print(\"Numarul generat este mai mic decat 5!\")\n"
      ],
      "execution_count": null,
      "outputs": [
        {
          "output_type": "stream",
          "name": "stdout",
          "text": [
            "5\n",
            "Numarul generat este intre 5 si 8!\n"
          ]
        }
      ]
    },
    {
      "cell_type": "markdown",
      "metadata": {
        "id": "zMXAzXgOcxzN"
      },
      "source": [
        "# Exercitiu 2b\n",
        "Calculati factorial de 10 (10! = 1* 2 * 3 * 4 *....) folosing o functie repetitiva.\n",
        "\n",
        "\n",
        "\n"
      ]
    },
    {
      "cell_type": "code",
      "metadata": {
        "id": "TxPZoICDeTqV",
        "colab": {
          "base_uri": "https://localhost:8080/"
        },
        "outputId": "0960b480-44b6-4f48-dca5-d71cdb69dfdc"
      },
      "source": [
        "def fact(n):\n",
        "  if n == 0:\n",
        "    return 1\n",
        "  else:\n",
        "    return n*fact(n-1)\n",
        "\n",
        "print(fact(10))"
      ],
      "execution_count": null,
      "outputs": [
        {
          "output_type": "stream",
          "name": "stdout",
          "text": [
            "3628800\n"
          ]
        }
      ]
    }
  ]
}